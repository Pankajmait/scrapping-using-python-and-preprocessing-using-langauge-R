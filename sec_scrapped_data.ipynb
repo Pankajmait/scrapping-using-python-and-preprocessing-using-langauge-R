{
 "cells": [
  {
   "cell_type": "code",
   "execution_count": 13,
   "metadata": {},
   "outputs": [
    {
     "ename": "AttributeError",
     "evalue": "'NoneType' object has no attribute 'find_all'",
     "output_type": "error",
     "traceback": [
      "\u001b[1;31m---------------------------------------------------------------------------\u001b[0m",
      "\u001b[1;31mAttributeError\u001b[0m                            Traceback (most recent call last)",
      "\u001b[1;32m<ipython-input-13-54355f49c284>\u001b[0m in \u001b[0;36m<module>\u001b[1;34m()\u001b[0m\n\u001b[0;32m     13\u001b[0m \u001b[0mfirst_half\u001b[0m \u001b[1;33m=\u001b[0m \u001b[1;34m\"https://www.sec.gov\"\u001b[0m\u001b[1;33m\u001b[0m\u001b[0m\n\u001b[0;32m     14\u001b[0m \u001b[1;33m\u001b[0m\u001b[0m\n\u001b[1;32m---> 15\u001b[1;33m \u001b[0mlinks\u001b[0m \u001b[1;33m=\u001b[0m \u001b[0msoup\u001b[0m\u001b[1;33m.\u001b[0m\u001b[0mfind\u001b[0m\u001b[1;33m(\u001b[0m\u001b[1;34m'div'\u001b[0m\u001b[1;33m,\u001b[0m \u001b[1;33m{\u001b[0m\u001b[1;34m'id'\u001b[0m \u001b[1;33m:\u001b[0m \u001b[1;34m'main-content'\u001b[0m\u001b[1;33m}\u001b[0m\u001b[1;33m)\u001b[0m\u001b[1;33m.\u001b[0m\u001b[0mfind_all\u001b[0m\u001b[1;33m(\u001b[0m\u001b[1;34m'ul'\u001b[0m\u001b[1;33m)\u001b[0m\u001b[1;33m\u001b[0m\u001b[0m\n\u001b[0m\u001b[0;32m     16\u001b[0m \u001b[1;31m# from here I can get access to all the urls in the main-content div\u001b[0m\u001b[1;33m\u001b[0m\u001b[1;33m\u001b[0m\u001b[0m\n\u001b[0;32m     17\u001b[0m \u001b[1;33m\u001b[0m\u001b[0m\n",
      "\u001b[1;31mAttributeError\u001b[0m: 'NoneType' object has no attribute 'find_all'"
     ]
    }
   ],
   "source": [
    "from bs4 import BeautifulSoup\n",
    "import requests\n",
    "import re\n",
    " \n",
    "filename = \"get_details3.csv\"\n",
    " \n",
    "file1=open(filename, \"w\")\n",
    " \n",
    "url=\"https://www.sec.gov/help/foiadocsinvafoiahtm.html\"\n",
    "r=requests.get(url)\n",
    "soup = BeautifulSoup(r.content, \"lxml\")\n",
    " \n",
    "first_half = \"https://www.sec.gov\"\n",
    " \n",
    "links = soup.find('div', {'id' : 'main-content'}).find_all('ul')\n",
    "# from here I can get access to all the urls in the main-content div\n",
    " \n",
    "'''\n",
    "Each link has two <a> tags>. 1 for url ... 2 for\n",
    "url format\n",
    "https://www.sec.gov/foia/iareports/ia050117.zip\n",
    "'''\n",
    " \n",
    "file1.write('File_URL' + ',')\n",
    "file1.write('Date' + ',')\n",
    "file1.write('type' + '\\n')\n",
    " \n",
    "for item in links:\n",
    "              item1 = item.find_all('li')\n",
    " \n",
    "              for item2 in item1:\n",
    "                           item3 = len(item2.find_all('a'))\n",
    "                           #print(len(item3))\n",
    "                           #get_len = len(str(item2.find_all('a')))\n",
    "                           #print(get_len)\n",
    "                          \n",
    "                           if item3 == 2:\n",
    "                                         type1 = \"Exempt\"\n",
    "                                         print(\"if mein hai\")\n",
    "                                         zip_url = item2.find('a')['href'] \n",
    "                                         comp_zip_url = first_half + zip_url\n",
    " \n",
    "                                         date1 = re.findall(r\"\\D(\\d{6})\\D\", comp_zip_url)[0]\n",
    "    \n",
    "                                         #print(y)\n",
    "                                         file1.write(comp_zip_url + ',')\n",
    "                                         file1.write(str(date1) + ',')\n",
    "                                         file1.write(type1 + '\\n')\n",
    " \n",
    "                           else:\n",
    "                                         type1 = \"Non-Exempt\"\n",
    "                                         #print(\"else mein hai\")\n",
    "                                         zip_url = item2.find('a')['href'] \n",
    "                                         comp_zip_url = first_half + zip_url\n",
    "                                         date1 = re.findall(r\"\\D(\\d{6})\\D\", comp_zip_url)[0]\n",
    "                                         file1.write(comp_zip_url + ',')\n",
    "                                         file1.write(str(date1) + ',')\n",
    "                                         file1.write(type1 + '\\n')\n",
    " \n",
    "file1.close()"
   ]
  },
  {
   "cell_type": "code",
   "execution_count": null,
   "metadata": {
    "collapsed": true
   },
   "outputs": [],
   "source": []
  },
  {
   "cell_type": "code",
   "execution_count": null,
   "metadata": {
    "collapsed": true
   },
   "outputs": [],
   "source": []
  }
 ],
 "metadata": {
  "kernelspec": {
   "display_name": "Python 3",
   "language": "python",
   "name": "python3"
  },
  "language_info": {
   "codemirror_mode": {
    "name": "ipython",
    "version": 3
   },
   "file_extension": ".py",
   "mimetype": "text/x-python",
   "name": "python",
   "nbconvert_exporter": "python",
   "pygments_lexer": "ipython3",
   "version": "3.6.1"
  }
 },
 "nbformat": 4,
 "nbformat_minor": 2
}
